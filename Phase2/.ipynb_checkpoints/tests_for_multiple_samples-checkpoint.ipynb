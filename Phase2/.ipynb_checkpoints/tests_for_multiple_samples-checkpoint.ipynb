{
 "cells": [
  {
   "cell_type": "markdown",
   "metadata": {
    "toc": true
   },
   "source": [
    "<h1>Table of Contents<span class=\"tocSkip\"></span></h1>\n",
    "<div class=\"toc\"><ul class=\"toc-item\"><li><span><a href=\"#Objectives\" data-toc-modified-id=\"Objectives-1\"><span class=\"toc-item-num\">1&nbsp;&nbsp;</span>Objectives</a></span></li><li><span><a href=\"#Preparing-Some-Data\" data-toc-modified-id=\"Preparing-Some-Data-2\"><span class=\"toc-item-num\">2&nbsp;&nbsp;</span>Preparing Some Data</a></span></li><li><span><a href=\"#Comparing-Samples-to-Another\" data-toc-modified-id=\"Comparing-Samples-to-Another-3\"><span class=\"toc-item-num\">3&nbsp;&nbsp;</span>Comparing Samples to Another</a></span><ul class=\"toc-item\"><li><span><a href=\"#Two-Sample-$t$-Test\" data-toc-modified-id=\"Two-Sample-$t$-Test-3.1\"><span class=\"toc-item-num\">3.1&nbsp;&nbsp;</span>Two Sample $t$-Test</a></span><ul class=\"toc-item\"><li><span><a href=\"#Visualization-of-Two-Samples\" data-toc-modified-id=\"Visualization-of-Two-Samples-3.1.1\"><span class=\"toc-item-num\">3.1.1&nbsp;&nbsp;</span>Visualization of Two Samples</a></span></li><li><span><a href=\"#Performing-the-Two-Sample-$t$-Test-(SciPy)\" data-toc-modified-id=\"Performing-the-Two-Sample-$t$-Test-(SciPy)-3.1.2\"><span class=\"toc-item-num\">3.1.2&nbsp;&nbsp;</span>Performing the Two-Sample $t$-Test (SciPy)</a></span></li></ul></li><li><span><a href=\"#But-I-Want-It-All!\" data-toc-modified-id=\"But-I-Want-It-All!-3.2\"><span class=\"toc-item-num\">3.2&nbsp;&nbsp;</span>But I Want It All!</a></span><ul class=\"toc-item\"><li><span><a href=\"#Visualization-of-More-Samples\" data-toc-modified-id=\"Visualization-of-More-Samples-3.2.1\"><span class=\"toc-item-num\">3.2.1&nbsp;&nbsp;</span>Visualization of More Samples</a></span></li><li><span><a href=\"#Performing-Multiple-$t$-tests-←-DO-NOT-DO!\" data-toc-modified-id=\"Performing-Multiple-$t$-tests-←-DO-NOT-DO!-3.2.2\"><span class=\"toc-item-num\">3.2.2&nbsp;&nbsp;</span>Performing Multiple $t$-tests ← DO NOT DO!</a></span></li><li><span><a href=\"#Issues?\" data-toc-modified-id=\"Issues?-3.2.3\"><span class=\"toc-item-num\">3.2.3&nbsp;&nbsp;</span>Issues?</a></span></li></ul></li></ul></li><li><span><a href=\"#ANOVA---Analysis-of-Variance\" data-toc-modified-id=\"ANOVA---Analysis-of-Variance-4\"><span class=\"toc-item-num\">4&nbsp;&nbsp;</span>ANOVA - Analysis of Variance</a></span><ul class=\"toc-item\"><li><span><a href=\"#The-$F$-Statistic\" data-toc-modified-id=\"The-$F$-Statistic-4.1\"><span class=\"toc-item-num\">4.1&nbsp;&nbsp;</span>The $F$-Statistic</a></span><ul class=\"toc-item\"><li><span><a href=\"#Visualizing-the-Data-and-$F$-Statistic\" data-toc-modified-id=\"Visualizing-the-Data-and-$F$-Statistic-4.1.1\"><span class=\"toc-item-num\">4.1.1&nbsp;&nbsp;</span>Visualizing the Data and $F$-Statistic</a></span><ul class=\"toc-item\"><li><span><a href=\"#More-Details-on-Variance-Between-and-Within-Groups\" data-toc-modified-id=\"More-Details-on-Variance-Between-and-Within-Groups-4.1.1.1\"><span class=\"toc-item-num\">4.1.1.1&nbsp;&nbsp;</span>More Details on Variance Between and Within Groups</a></span></li></ul></li><li><span><a href=\"#Between-Group-Variability\" data-toc-modified-id=\"Between-Group-Variability-4.1.2\"><span class=\"toc-item-num\">4.1.2&nbsp;&nbsp;</span>Between Group Variability</a></span></li><li><span><a href=\"#Within-Group-Variability\" data-toc-modified-id=\"Within-Group-Variability-4.1.3\"><span class=\"toc-item-num\">4.1.3&nbsp;&nbsp;</span>Within Group Variability</a></span></li></ul></li><li><span><a href=\"#Performing-One-Way-ANOVA\" data-toc-modified-id=\"Performing-One-Way-ANOVA-4.2\"><span class=\"toc-item-num\">4.2&nbsp;&nbsp;</span>Performing One-Way ANOVA</a></span><ul class=\"toc-item\"><li><span><a href=\"#Note:-Excluding-One-Group\" data-toc-modified-id=\"Note:-Excluding-One-Group-4.2.1\"><span class=\"toc-item-num\">4.2.1&nbsp;&nbsp;</span>Note: Excluding One Group</a></span></li></ul></li><li><span><a href=\"#ANOVA-is-an-Omnibus-Test\" data-toc-modified-id=\"ANOVA-is-an-Omnibus-Test-4.3\"><span class=\"toc-item-num\">4.3&nbsp;&nbsp;</span>ANOVA is an Omnibus Test</a></span></li></ul></li><li><span><a href=\"#Level-Up---statsmodels\" data-toc-modified-id=\"Level-Up---statsmodels-5\"><span class=\"toc-item-num\">5&nbsp;&nbsp;</span>Level Up - <code>statsmodels</code></a></span></li><li><span><a href=\"#Level-Up---Follow-Up-with-Post-Hoc-Tests\" data-toc-modified-id=\"Level-Up---Follow-Up-with-Post-Hoc-Tests-6\"><span class=\"toc-item-num\">6&nbsp;&nbsp;</span>Level Up - Follow-Up with Post-Hoc Tests</a></span></li><li><span><a href=\"#Level-Up---Two-Way-ANOVA\" data-toc-modified-id=\"Level-Up---Two-Way-ANOVA-7\"><span class=\"toc-item-num\">7&nbsp;&nbsp;</span>Level Up - Two-Way ANOVA</a></span></li><li><span><a href=\"#Level-Up---Additional-Information\" data-toc-modified-id=\"Level-Up---Additional-Information-8\"><span class=\"toc-item-num\">8&nbsp;&nbsp;</span>Level Up - Additional Information</a></span></li></ul></div>"
   ]
  },
  {
   "cell_type": "code",
   "execution_count": 1,
   "metadata": {},
   "outputs": [],
   "source": [
    "import numpy as np\n",
    "from scipy import stats\n",
    "import pandas as pd\n",
    "import matplotlib.pyplot as plt\n",
    "import seaborn as sns"
   ]
  },
  {
   "cell_type": "markdown",
   "metadata": {
    "heading_collapsed": true
   },
   "source": [
    "# Objectives"
   ]
  },
  {
   "cell_type": "markdown",
   "metadata": {
    "hidden": true
   },
   "source": [
    "- Understand the issues of multiple comparisons\n",
    "- Compare and contrast $t$-tests with ANOVA\n",
    "- Implement ANOVA in Python"
   ]
  },
  {
   "cell_type": "markdown",
   "metadata": {
    "heading_collapsed": true
   },
   "source": [
    "# Preparing Some Data"
   ]
  },
  {
   "cell_type": "markdown",
   "metadata": {
    "hidden": true
   },
   "source": [
    "> We will use the data from this [documentation on SciPy's `f_oneway()`](https://docs.scipy.org/doc/scipy/reference/generated/scipy.stats.f_oneway.html) \"on a shell measurement (the length of the anterior adductor muscle scar, standardized by dividing by length) in the mussel *Mytilus trossulus* from five locations: Tillamook, Oregon; Newport, Oregon; Petersburg, Alaska; Magadan, Russia; and Tvarminne, Finland, taken from a much larger data set\""
   ]
  },
  {
   "cell_type": "markdown",
   "metadata": {
    "hidden": true
   },
   "source": [
    "<img alt=\"mytilus trossulus mussel shell\" src=\"images/mytilus_trossulus_inside.jpg\" width=50%/>\n",
    "\n",
    "> Image from Walla Walla University: https://inverts.wallawalla.edu/Mollusca/Bivalvia/Mytiloida/Mytilidae/Mytilus_trossulus.html"
   ]
  },
  {
   "cell_type": "code",
   "execution_count": 2,
   "metadata": {
    "hidden": true
   },
   "outputs": [
    {
     "data": {
      "text/html": [
       "<div>\n",
       "<style scoped>\n",
       "    .dataframe tbody tr th:only-of-type {\n",
       "        vertical-align: middle;\n",
       "    }\n",
       "\n",
       "    .dataframe tbody tr th {\n",
       "        vertical-align: top;\n",
       "    }\n",
       "\n",
       "    .dataframe thead th {\n",
       "        text-align: right;\n",
       "    }\n",
       "</style>\n",
       "<table border=\"1\" class=\"dataframe\">\n",
       "  <thead>\n",
       "    <tr style=\"text-align: right;\">\n",
       "      <th></th>\n",
       "      <th>area</th>\n",
       "      <th>shell_standardized</th>\n",
       "    </tr>\n",
       "  </thead>\n",
       "  <tbody>\n",
       "    <tr>\n",
       "      <th>0</th>\n",
       "      <td>tillamook</td>\n",
       "      <td>0.0571</td>\n",
       "    </tr>\n",
       "    <tr>\n",
       "      <th>1</th>\n",
       "      <td>tillamook</td>\n",
       "      <td>0.0813</td>\n",
       "    </tr>\n",
       "    <tr>\n",
       "      <th>2</th>\n",
       "      <td>tillamook</td>\n",
       "      <td>0.0831</td>\n",
       "    </tr>\n",
       "    <tr>\n",
       "      <th>3</th>\n",
       "      <td>tillamook</td>\n",
       "      <td>0.0976</td>\n",
       "    </tr>\n",
       "    <tr>\n",
       "      <th>4</th>\n",
       "      <td>tillamook</td>\n",
       "      <td>0.0817</td>\n",
       "    </tr>\n",
       "    <tr>\n",
       "      <th>5</th>\n",
       "      <td>tillamook</td>\n",
       "      <td>0.0859</td>\n",
       "    </tr>\n",
       "    <tr>\n",
       "      <th>6</th>\n",
       "      <td>tillamook</td>\n",
       "      <td>0.0735</td>\n",
       "    </tr>\n",
       "    <tr>\n",
       "      <th>7</th>\n",
       "      <td>tillamook</td>\n",
       "      <td>0.0659</td>\n",
       "    </tr>\n",
       "    <tr>\n",
       "      <th>8</th>\n",
       "      <td>tillamook</td>\n",
       "      <td>0.0923</td>\n",
       "    </tr>\n",
       "    <tr>\n",
       "      <th>9</th>\n",
       "      <td>tillamook</td>\n",
       "      <td>0.0836</td>\n",
       "    </tr>\n",
       "    <tr>\n",
       "      <th>10</th>\n",
       "      <td>newport</td>\n",
       "      <td>0.0873</td>\n",
       "    </tr>\n",
       "    <tr>\n",
       "      <th>11</th>\n",
       "      <td>newport</td>\n",
       "      <td>0.0662</td>\n",
       "    </tr>\n",
       "    <tr>\n",
       "      <th>12</th>\n",
       "      <td>newport</td>\n",
       "      <td>0.0672</td>\n",
       "    </tr>\n",
       "    <tr>\n",
       "      <th>13</th>\n",
       "      <td>newport</td>\n",
       "      <td>0.0819</td>\n",
       "    </tr>\n",
       "    <tr>\n",
       "      <th>14</th>\n",
       "      <td>newport</td>\n",
       "      <td>0.0749</td>\n",
       "    </tr>\n",
       "    <tr>\n",
       "      <th>15</th>\n",
       "      <td>newport</td>\n",
       "      <td>0.0649</td>\n",
       "    </tr>\n",
       "    <tr>\n",
       "      <th>16</th>\n",
       "      <td>newport</td>\n",
       "      <td>0.0835</td>\n",
       "    </tr>\n",
       "    <tr>\n",
       "      <th>17</th>\n",
       "      <td>newport</td>\n",
       "      <td>0.0725</td>\n",
       "    </tr>\n",
       "    <tr>\n",
       "      <th>18</th>\n",
       "      <td>petersburg</td>\n",
       "      <td>0.0974</td>\n",
       "    </tr>\n",
       "    <tr>\n",
       "      <th>19</th>\n",
       "      <td>petersburg</td>\n",
       "      <td>0.1352</td>\n",
       "    </tr>\n",
       "    <tr>\n",
       "      <th>20</th>\n",
       "      <td>petersburg</td>\n",
       "      <td>0.0817</td>\n",
       "    </tr>\n",
       "    <tr>\n",
       "      <th>21</th>\n",
       "      <td>petersburg</td>\n",
       "      <td>0.1016</td>\n",
       "    </tr>\n",
       "    <tr>\n",
       "      <th>22</th>\n",
       "      <td>petersburg</td>\n",
       "      <td>0.0968</td>\n",
       "    </tr>\n",
       "    <tr>\n",
       "      <th>23</th>\n",
       "      <td>petersburg</td>\n",
       "      <td>0.1064</td>\n",
       "    </tr>\n",
       "    <tr>\n",
       "      <th>24</th>\n",
       "      <td>petersburg</td>\n",
       "      <td>0.1050</td>\n",
       "    </tr>\n",
       "    <tr>\n",
       "      <th>25</th>\n",
       "      <td>magadan</td>\n",
       "      <td>0.1033</td>\n",
       "    </tr>\n",
       "    <tr>\n",
       "      <th>26</th>\n",
       "      <td>magadan</td>\n",
       "      <td>0.0915</td>\n",
       "    </tr>\n",
       "    <tr>\n",
       "      <th>27</th>\n",
       "      <td>magadan</td>\n",
       "      <td>0.0781</td>\n",
       "    </tr>\n",
       "    <tr>\n",
       "      <th>28</th>\n",
       "      <td>magadan</td>\n",
       "      <td>0.0685</td>\n",
       "    </tr>\n",
       "    <tr>\n",
       "      <th>29</th>\n",
       "      <td>magadan</td>\n",
       "      <td>0.0677</td>\n",
       "    </tr>\n",
       "    <tr>\n",
       "      <th>30</th>\n",
       "      <td>magadan</td>\n",
       "      <td>0.0697</td>\n",
       "    </tr>\n",
       "    <tr>\n",
       "      <th>31</th>\n",
       "      <td>magadan</td>\n",
       "      <td>0.0764</td>\n",
       "    </tr>\n",
       "    <tr>\n",
       "      <th>32</th>\n",
       "      <td>magadan</td>\n",
       "      <td>0.0689</td>\n",
       "    </tr>\n",
       "    <tr>\n",
       "      <th>33</th>\n",
       "      <td>tvarminne</td>\n",
       "      <td>0.0703</td>\n",
       "    </tr>\n",
       "    <tr>\n",
       "      <th>34</th>\n",
       "      <td>tvarminne</td>\n",
       "      <td>0.1026</td>\n",
       "    </tr>\n",
       "    <tr>\n",
       "      <th>35</th>\n",
       "      <td>tvarminne</td>\n",
       "      <td>0.0956</td>\n",
       "    </tr>\n",
       "    <tr>\n",
       "      <th>36</th>\n",
       "      <td>tvarminne</td>\n",
       "      <td>0.0973</td>\n",
       "    </tr>\n",
       "    <tr>\n",
       "      <th>37</th>\n",
       "      <td>tvarminne</td>\n",
       "      <td>0.1039</td>\n",
       "    </tr>\n",
       "    <tr>\n",
       "      <th>38</th>\n",
       "      <td>tvarminne</td>\n",
       "      <td>0.1045</td>\n",
       "    </tr>\n",
       "  </tbody>\n",
       "</table>\n",
       "</div>"
      ],
      "text/plain": [
       "          area  shell_standardized\n",
       "0    tillamook              0.0571\n",
       "1    tillamook              0.0813\n",
       "2    tillamook              0.0831\n",
       "3    tillamook              0.0976\n",
       "4    tillamook              0.0817\n",
       "5    tillamook              0.0859\n",
       "6    tillamook              0.0735\n",
       "7    tillamook              0.0659\n",
       "8    tillamook              0.0923\n",
       "9    tillamook              0.0836\n",
       "10     newport              0.0873\n",
       "11     newport              0.0662\n",
       "12     newport              0.0672\n",
       "13     newport              0.0819\n",
       "14     newport              0.0749\n",
       "15     newport              0.0649\n",
       "16     newport              0.0835\n",
       "17     newport              0.0725\n",
       "18  petersburg              0.0974\n",
       "19  petersburg              0.1352\n",
       "20  petersburg              0.0817\n",
       "21  petersburg              0.1016\n",
       "22  petersburg              0.0968\n",
       "23  petersburg              0.1064\n",
       "24  petersburg              0.1050\n",
       "25     magadan              0.1033\n",
       "26     magadan              0.0915\n",
       "27     magadan              0.0781\n",
       "28     magadan              0.0685\n",
       "29     magadan              0.0677\n",
       "30     magadan              0.0697\n",
       "31     magadan              0.0764\n",
       "32     magadan              0.0689\n",
       "33   tvarminne              0.0703\n",
       "34   tvarminne              0.1026\n",
       "35   tvarminne              0.0956\n",
       "36   tvarminne              0.0973\n",
       "37   tvarminne              0.1039\n",
       "38   tvarminne              0.1045"
      ]
     },
     "execution_count": 2,
     "metadata": {},
     "output_type": "execute_result"
    }
   ],
   "source": [
    "# Data found from above URL\n",
    "tillamook = [0.0571, 0.0813, 0.0831, 0.0976, 0.0817, 0.0859, 0.0735,\n",
    "             0.0659, 0.0923, 0.0836]\n",
    "newport = [0.0873, 0.0662, 0.0672, 0.0819, 0.0749, 0.0649, 0.0835,\n",
    "           0.0725]\n",
    "petersburg = [0.0974, 0.1352, 0.0817, 0.1016, 0.0968, 0.1064, 0.105]\n",
    "magadan = [0.1033, 0.0915, 0.0781, 0.0685, 0.0677, 0.0697, 0.0764,\n",
    "           0.0689]\n",
    "tvarminne = [0.0703, 0.1026, 0.0956, 0.0973, 0.1039, 0.1045]\n",
    "\n",
    "# Nice DF for us\n",
    "data = []\n",
    "data += [('tillamook', v) for v in tillamook]\n",
    "data += [('newport', v) for v in newport]\n",
    "data += [('petersburg', v) for v in petersburg]\n",
    "data += [('magadan', v) for v in magadan]\n",
    "data += [('tvarminne', v) for v in tvarminne]\n",
    "\n",
    "df = pd.DataFrame(data=data, columns=['area','shell_standardized'])\n",
    "df.sample(8)\n",
    "df"
   ]
  },
  {
   "cell_type": "code",
   "execution_count": 3,
   "metadata": {
    "hidden": true
   },
   "outputs": [
    {
     "data": {
      "text/html": [
       "<div>\n",
       "<style scoped>\n",
       "    .dataframe tbody tr th:only-of-type {\n",
       "        vertical-align: middle;\n",
       "    }\n",
       "\n",
       "    .dataframe tbody tr th {\n",
       "        vertical-align: top;\n",
       "    }\n",
       "\n",
       "    .dataframe thead tr th {\n",
       "        text-align: left;\n",
       "    }\n",
       "\n",
       "    .dataframe thead tr:last-of-type th {\n",
       "        text-align: right;\n",
       "    }\n",
       "</style>\n",
       "<table border=\"1\" class=\"dataframe\">\n",
       "  <thead>\n",
       "    <tr>\n",
       "      <th></th>\n",
       "      <th colspan=\"2\" halign=\"left\">shell_standardized</th>\n",
       "    </tr>\n",
       "    <tr>\n",
       "      <th></th>\n",
       "      <th>mean</th>\n",
       "      <th>std</th>\n",
       "    </tr>\n",
       "    <tr>\n",
       "      <th>area</th>\n",
       "      <th></th>\n",
       "      <th></th>\n",
       "    </tr>\n",
       "  </thead>\n",
       "  <tbody>\n",
       "    <tr>\n",
       "      <th>magadan</th>\n",
       "      <td>0.078012</td>\n",
       "      <td>0.012945</td>\n",
       "    </tr>\n",
       "    <tr>\n",
       "      <th>newport</th>\n",
       "      <td>0.074800</td>\n",
       "      <td>0.008597</td>\n",
       "    </tr>\n",
       "    <tr>\n",
       "      <th>petersburg</th>\n",
       "      <td>0.103443</td>\n",
       "      <td>0.016209</td>\n",
       "    </tr>\n",
       "    <tr>\n",
       "      <th>tillamook</th>\n",
       "      <td>0.080200</td>\n",
       "      <td>0.011963</td>\n",
       "    </tr>\n",
       "    <tr>\n",
       "      <th>tvarminne</th>\n",
       "      <td>0.095700</td>\n",
       "      <td>0.012962</td>\n",
       "    </tr>\n",
       "  </tbody>\n",
       "</table>\n",
       "</div>"
      ],
      "text/plain": [
       "           shell_standardized          \n",
       "                         mean       std\n",
       "area                                   \n",
       "magadan              0.078012  0.012945\n",
       "newport              0.074800  0.008597\n",
       "petersburg           0.103443  0.016209\n",
       "tillamook            0.080200  0.011963\n",
       "tvarminne            0.095700  0.012962"
      ]
     },
     "execution_count": 3,
     "metadata": {},
     "output_type": "execute_result"
    }
   ],
   "source": [
    "# Looking at the different groups\n",
    "df.groupby('area').agg(['mean', 'std'])"
   ]
  },
  {
   "cell_type": "markdown",
   "metadata": {
    "heading_collapsed": true
   },
   "source": [
    "# Comparing Samples to Another"
   ]
  },
  {
   "cell_type": "markdown",
   "metadata": {
    "hidden": true
   },
   "source": [
    "In the past lectures, we focused on 1-sample tests where we compare a sample with the population.\n",
    "\n",
    "But sometimes we really want to compare two or more samples together. That's going to be our main focus today."
   ]
  },
  {
   "cell_type": "markdown",
   "metadata": {
    "hidden": true
   },
   "source": [
    "We'll start with the two sample $t$-test and then discuss its limitations."
   ]
  },
  {
   "cell_type": "markdown",
   "metadata": {
    "heading_collapsed": true,
    "hidden": true
   },
   "source": [
    "## Two Sample $t$-Test"
   ]
  },
  {
   "cell_type": "markdown",
   "metadata": {
    "hidden": true
   },
   "source": [
    "> Sometimes we want to do a hypothesis test to compare two samples to see if they're not significantly different from another (they come from the same overlying population)."
   ]
  },
  {
   "cell_type": "markdown",
   "metadata": {
    "hidden": true
   },
   "source": [
    "We won't go into the details of performing a two sample $t$-test, but know that we must consider the means, samples' standard deviations, and number of observations for each sample to perform the test."
   ]
  },
  {
   "cell_type": "markdown",
   "metadata": {
    "hidden": true
   },
   "source": [
    "> **MATH**\n",
    "> \n",
    "> Here is the formula for the two sample $t$-test:\n",
    "> \n",
    "> $$ t = \\frac{\\bar{x_1} - \\bar{x_2}}{\\sqrt{s^2 \\left( \\frac{1}{n_1} + \\frac{1}{n_2} \\right)}}$$\n",
    ">\n",
    "> where $s^2$ is the pooled sample variance:\n",
    ">\n",
    "> $$ s^2 = \\frac{\\sum_{i=1}^{n_1} \\left(x_i - \\bar{x_1}\\right)^2 + \\sum_{j=1}^{n_2} \\left(x_j - \\bar{x_2}\\right)^2 }{n_1 + n_2 - 2} $$"
   ]
  },
  {
   "cell_type": "markdown",
   "metadata": {
    "hidden": true
   },
   "source": [
    "We can use SciPy's implementation using either the samples (`scipy.stat.ttest_ind()`) or the statistics of the samples (`scipy.stat.ttest_ind_from_stats()`). Here are their respective documentations:\n",
    "\n",
    "- https://docs.scipy.org/doc/scipy/reference/generated/scipy.stats.ttest_ind.html\n",
    "- https://docs.scipy.org/doc/scipy/reference/generated/scipy.stats.ttest_ind_from_stats.html"
   ]
  },
  {
   "cell_type": "markdown",
   "metadata": {
    "heading_collapsed": true,
    "hidden": true
   },
   "source": [
    "### Visualization of Two Samples"
   ]
  },
  {
   "cell_type": "markdown",
   "metadata": {
    "hidden": true
   },
   "source": [
    "Let's isolate the two Oregon locations and observe what these two groups look like:"
   ]
  },
  {
   "cell_type": "code",
   "execution_count": 4,
   "metadata": {
    "hidden": true
   },
   "outputs": [
    {
     "name": "stdout",
     "output_type": "stream",
     "text": [
      "tillamook:\n"
     ]
    },
    {
     "data": {
      "text/html": [
       "<div>\n",
       "<style scoped>\n",
       "    .dataframe tbody tr th:only-of-type {\n",
       "        vertical-align: middle;\n",
       "    }\n",
       "\n",
       "    .dataframe tbody tr th {\n",
       "        vertical-align: top;\n",
       "    }\n",
       "\n",
       "    .dataframe thead th {\n",
       "        text-align: right;\n",
       "    }\n",
       "</style>\n",
       "<table border=\"1\" class=\"dataframe\">\n",
       "  <thead>\n",
       "    <tr style=\"text-align: right;\">\n",
       "      <th></th>\n",
       "      <th>shell_standardized</th>\n",
       "    </tr>\n",
       "  </thead>\n",
       "  <tbody>\n",
       "    <tr>\n",
       "      <th>count</th>\n",
       "      <td>10.000000</td>\n",
       "    </tr>\n",
       "    <tr>\n",
       "      <th>mean</th>\n",
       "      <td>0.080200</td>\n",
       "    </tr>\n",
       "    <tr>\n",
       "      <th>std</th>\n",
       "      <td>0.011963</td>\n",
       "    </tr>\n",
       "    <tr>\n",
       "      <th>min</th>\n",
       "      <td>0.057100</td>\n",
       "    </tr>\n",
       "    <tr>\n",
       "      <th>25%</th>\n",
       "      <td>0.075450</td>\n",
       "    </tr>\n",
       "    <tr>\n",
       "      <th>50%</th>\n",
       "      <td>0.082400</td>\n",
       "    </tr>\n",
       "    <tr>\n",
       "      <th>75%</th>\n",
       "      <td>0.085325</td>\n",
       "    </tr>\n",
       "    <tr>\n",
       "      <th>max</th>\n",
       "      <td>0.097600</td>\n",
       "    </tr>\n",
       "  </tbody>\n",
       "</table>\n",
       "</div>"
      ],
      "text/plain": [
       "       shell_standardized\n",
       "count           10.000000\n",
       "mean             0.080200\n",
       "std              0.011963\n",
       "min              0.057100\n",
       "25%              0.075450\n",
       "50%              0.082400\n",
       "75%              0.085325\n",
       "max              0.097600"
      ]
     },
     "metadata": {},
     "output_type": "display_data"
    },
    {
     "name": "stdout",
     "output_type": "stream",
     "text": [
      "\n",
      "----------------------\n",
      "\n",
      "newport:\n"
     ]
    },
    {
     "data": {
      "text/html": [
       "<div>\n",
       "<style scoped>\n",
       "    .dataframe tbody tr th:only-of-type {\n",
       "        vertical-align: middle;\n",
       "    }\n",
       "\n",
       "    .dataframe tbody tr th {\n",
       "        vertical-align: top;\n",
       "    }\n",
       "\n",
       "    .dataframe thead th {\n",
       "        text-align: right;\n",
       "    }\n",
       "</style>\n",
       "<table border=\"1\" class=\"dataframe\">\n",
       "  <thead>\n",
       "    <tr style=\"text-align: right;\">\n",
       "      <th></th>\n",
       "      <th>shell_standardized</th>\n",
       "    </tr>\n",
       "  </thead>\n",
       "  <tbody>\n",
       "    <tr>\n",
       "      <th>count</th>\n",
       "      <td>8.000000</td>\n",
       "    </tr>\n",
       "    <tr>\n",
       "      <th>mean</th>\n",
       "      <td>0.074800</td>\n",
       "    </tr>\n",
       "    <tr>\n",
       "      <th>std</th>\n",
       "      <td>0.008597</td>\n",
       "    </tr>\n",
       "    <tr>\n",
       "      <th>min</th>\n",
       "      <td>0.064900</td>\n",
       "    </tr>\n",
       "    <tr>\n",
       "      <th>25%</th>\n",
       "      <td>0.066950</td>\n",
       "    </tr>\n",
       "    <tr>\n",
       "      <th>50%</th>\n",
       "      <td>0.073700</td>\n",
       "    </tr>\n",
       "    <tr>\n",
       "      <th>75%</th>\n",
       "      <td>0.082300</td>\n",
       "    </tr>\n",
       "    <tr>\n",
       "      <th>max</th>\n",
       "      <td>0.087300</td>\n",
       "    </tr>\n",
       "  </tbody>\n",
       "</table>\n",
       "</div>"
      ],
      "text/plain": [
       "       shell_standardized\n",
       "count            8.000000\n",
       "mean             0.074800\n",
       "std              0.008597\n",
       "min              0.064900\n",
       "25%              0.066950\n",
       "50%              0.073700\n",
       "75%              0.082300\n",
       "max              0.087300"
      ]
     },
     "metadata": {},
     "output_type": "display_data"
    }
   ],
   "source": [
    "print('tillamook:')\n",
    "df_tillamook = df[df['area'] == 'tillamook']\n",
    "display(df_tillamook.describe())\n",
    "print('\\n----------------------\\n')\n",
    "print('newport:')\n",
    "df_newport = df[df['area'] == 'newport']\n",
    "display(df_newport.describe())"
   ]
  },
  {
   "cell_type": "code",
   "execution_count": null,
   "metadata": {
    "hidden": true
   },
   "outputs": [],
   "source": [
    "f, ax = plt.subplots(figsize=(10, 8))\n",
    "\n",
    "# Use specific set of colors\n",
    "colors = sns.color_palette('husl')\n",
    "\n",
    "# Select only two areas\n",
    "selection_mask = (df['area'] == 'tillamook') | (df['area'] == 'newport')\n",
    "data_subset = df[selection_mask]\n",
    "\n",
    "# Data Points\n",
    "ax = sns.swarmplot(\n",
    "    data=data_subset,\n",
    "    x=\"area\",\n",
    "    y=\"shell_standardized\",\n",
    "    ax=ax,\n",
    "    alpha=0.6, \n",
    "    marker='^',\n",
    "    size=8,\n",
    "    palette=colors\n",
    ")\n",
    "\n",
    "ax.axhline(\n",
    "    data_subset['shell_standardized'].mean(), label='Overall mean',\n",
    "    lw=3, ls='--', color='black', alpha=0.7\n",
    ")\n",
    "\n",
    "# Look at each specifc group (by area)\n",
    "areas = data_subset['area'].unique()\n",
    "for i, area in enumerate(areas):\n",
    "    mean = df[df['area']==area]['shell_standardized'].mean()\n",
    "    # Make these lines short and near each group\n",
    "    xmin = 1/len(areas) * i + 0.2\n",
    "    xmax = xmin + 0.1\n",
    "    ax.axhline(\n",
    "        mean, xmin=xmin, xmax=xmax, label=f'`{area}` mean',\n",
    "        lw=5, ls='-', color=colors[i]\n",
    "    ) \n",
    "    \n",
    "ax.legend()\n",
    "plt.tight_layout();"
   ]
  },
  {
   "cell_type": "markdown",
   "metadata": {
    "heading_collapsed": true,
    "hidden": true
   },
   "source": [
    "### Performing the Two-Sample $t$-Test (SciPy)"
   ]
  },
  {
   "cell_type": "markdown",
   "metadata": {
    "hidden": true
   },
   "source": [
    "Before getting our test statistic and p-value, we should define our significance level $\\alpha$. In this case we'll set to a conservative $\\alpha=0.01$"
   ]
  },
  {
   "cell_type": "code",
   "execution_count": null,
   "metadata": {
    "hidden": true
   },
   "outputs": [],
   "source": [
    "# Peform the two-sample t-test (are the samples different?)\n",
    "print(stats.ttest_ind(tillamook, newport))\n",
    "print(stats.ttest_ind(tillamook, newport, equal_var=False))"
   ]
  },
  {
   "cell_type": "markdown",
   "metadata": {
    "hidden": true
   },
   "source": [
    "And we see that we don't have a significant result between these two (don't reject $H_0$)"
   ]
  },
  {
   "cell_type": "markdown",
   "metadata": {
    "heading_collapsed": true,
    "hidden": true
   },
   "source": [
    "## But I Want It All!"
   ]
  },
  {
   "cell_type": "markdown",
   "metadata": {
    "hidden": true
   },
   "source": [
    "> We could compare multiple times with $t$-tests. \n",
    "> \n",
    "> What's the worst that can happen...? ***foreshadowing***"
   ]
  },
  {
   "cell_type": "markdown",
   "metadata": {
    "heading_collapsed": true,
    "hidden": true
   },
   "source": [
    "### Visualization of More Samples"
   ]
  },
  {
   "cell_type": "code",
   "execution_count": null,
   "metadata": {
    "hidden": true
   },
   "outputs": [],
   "source": [
    "fig, (ax0,ax1) = plt.subplots(nrows=2, figsize=(16, 16))\n",
    "\n",
    "sns.boxplot(\n",
    "    x=\"area\",\n",
    "    y=\"shell_standardized\",\n",
    "    data=df,\n",
    "    ax=ax0,\n",
    "    color='aqua', \n",
    "    linewidth=3\n",
    ")\n",
    "\n",
    "sns.swarmplot(\n",
    "    x=\"area\",\n",
    "    y=\"shell_standardized\",\n",
    "    data=df,\n",
    "    ax=ax0,\n",
    "    color='orange', \n",
    "    alpha=0.9, \n",
    "    size=12\n",
    ")\n",
    "\n",
    "\n",
    "\n",
    "sns.violinplot(\n",
    "    y=\"shell_standardized\", \n",
    "    x=\"area\", \n",
    "    data=df, \n",
    "    ax=ax1,\n",
    "    color='aqua',\n",
    "    inner=\"quartile\",  # Seeing the mean and quartiles\n",
    "    bw=.3              # How much smoothing do we use\n",
    ")\n",
    "\n",
    "sns.swarmplot(\n",
    "    x=\"area\",\n",
    "    y=\"shell_standardized\",\n",
    "    data=df,\n",
    "    ax=ax1,\n",
    "    color='orange', \n",
    "    alpha=0.9, \n",
    "    size=12\n",
    ")\n",
    "\n",
    "plt.tight_layout();"
   ]
  },
  {
   "cell_type": "markdown",
   "metadata": {
    "heading_collapsed": true,
    "hidden": true
   },
   "source": [
    "### Performing Multiple $t$-tests ← DO NOT DO!"
   ]
  },
  {
   "cell_type": "markdown",
   "metadata": {
    "hidden": true
   },
   "source": [
    "> ☠️ ***WARNING*** ☠️\n",
    ">\n",
    "> You shouldn't perform multiple $t$-tests! We do this for illustrative purposes!\n",
    ">\n",
    "> We are trained data science stunt-statisticians; do not try this at home, workplace, or in front of stakeholders"
   ]
  },
  {
   "cell_type": "code",
   "execution_count": null,
   "metadata": {
    "hidden": true
   },
   "outputs": [],
   "source": [
    "# Extra tools to make this stunt easier to do\n",
    "from itertools import combinations\n",
    "groups = {'tillamook':tillamook, 'newport':newport, 'magadan':magadan,\n",
    "          'tvarminne':tvarminne, 'petersburg':petersburg}\n",
    "\n",
    "# Our signifance level\n",
    "alpha = 0.01\n",
    "\n",
    "# Perform two sample t-tests on all combination pairs\n",
    "for group_a, group_b in combinations(groups,2):\n",
    "    # Make it easy for us to identify\n",
    "    print(f't-test on {group_a} & {group_b}')\n",
    "    \n",
    "    # Easy reference of samples\n",
    "    X_a = groups.get(group_a)\n",
    "    X_b = groups.get(group_b)\n",
    "    # Perform our test on pair\n",
    "    t, p = stats.ttest_ind(X_a, X_b)\n",
    "    \n",
    "    # Print our values\n",
    "    print(f'\\t t:{t:.2f}, p:{p:.3f}')\n",
    "    if p < alpha:\n",
    "        print(f'\\t***** SIGNIFICANT AT {alpha} LEVEL****')\n",
    "    print('\\n')"
   ]
  },
  {
   "cell_type": "markdown",
   "metadata": {
    "hidden": true
   },
   "source": [
    "So it looks like **newport and tvarminne** are significantly different from one another and every group except tvarminne is significantly different from **petersburg**! So there is a difference, right?\n",
    "\n",
    "Turns out there are some issues with the little stunt we pulled 🤕"
   ]
  },
  {
   "cell_type": "markdown",
   "metadata": {
    "heading_collapsed": true,
    "hidden": true
   },
   "source": [
    "### Issues?"
   ]
  },
  {
   "cell_type": "markdown",
   "metadata": {
    "hidden": true
   },
   "source": [
    "There are some concerns in what we just did:\n",
    "\n",
    "- If we test _every_ combination, this can be a lot of $t$-tests\n",
    "    + You would need $\\frac{n(n-1)}{2}$ $t$-tests\n",
    "- If there really isn't a difference, we're more likely to have false positives (type 1 errors)\n",
    "    + If our original probability of making a Type 1 error was $\\alpha$ and we do $n$ tests, then the probability of getting a Type 1 error would grow to $1-(1-\\alpha)^n$. In our case of $10$ tests & $\\alpha=0.01$, we have $1-(1-0.01)^{10}$ or $10\\%$ chance of making an error!"
   ]
  },
  {
   "cell_type": "markdown",
   "metadata": {
    "ExecuteTime": {
     "end_time": "2021-04-07T20:43:42.652670Z",
     "start_time": "2021-04-07T20:43:42.529655Z"
    },
    "hidden": true
   },
   "source": [
    "![](https://imgs.xkcd.com/comics/significant.png)"
   ]
  },
  {
   "cell_type": "markdown",
   "metadata": {
    "heading_collapsed": true
   },
   "source": [
    "# ANOVA - Analysis of Variance"
   ]
  },
  {
   "cell_type": "markdown",
   "metadata": {
    "hidden": true
   },
   "source": [
    "One solution to the multiple comparison problem is to perform a statistical test that looks at _all_ the samples together to determine if they are statistically different. \n",
    "\n",
    "One such test is the **analysis of variance** or **ANOVA test** (also called the **$F$ one-way test**)."
   ]
  },
  {
   "cell_type": "markdown",
   "metadata": {
    "hidden": true
   },
   "source": [
    "![](https://upload.wikimedia.org/wikipedia/commons/thumb/d/d3/V838_Mon_HST.jpg/480px-V838_Mon_HST.jpg)\n",
    "<!-- \n",
    "https://commons.wikimedia.org/wiki/File:V838_Mon_HST.jpg\n",
    "The Hubble material you see on this page is copyright-free. Material credited to STScI on this site was created, authored, and/or prepared for NASA under Contract NAS5-26555.\n",
    "-->\n",
    "\n",
    "> ANOVA: an acronym, not a stellar object. Well, it is pretty stellar but not in the space sense."
   ]
  },
  {
   "cell_type": "markdown",
   "metadata": {
    "heading_collapsed": true,
    "hidden": true
   },
   "source": [
    "## The $F$-Statistic"
   ]
  },
  {
   "cell_type": "markdown",
   "metadata": {
    "hidden": true
   },
   "source": [
    "At the heart of ANOVA is the **$F$-statistic** **$F$-ratio**."
   ]
  },
  {
   "cell_type": "markdown",
   "metadata": {
    "hidden": true
   },
   "source": [
    "![](img/heart_of_anova.png)"
   ]
  },
  {
   "cell_type": "markdown",
   "metadata": {
    "hidden": true
   },
   "source": [
    "We won't dig into the math, since honestly we don't need to do it by hand generally. But know the $F$-statistic is trying to capture the variance _between groups_ and _within groups_. This is done by comparing the individuals with the group means and the overall mean.\n",
    "\n",
    "The $F$-distribution therefore has **two** degrees-of-freedom parameters, and can in fact be thought of as a ratio of $\\chi^2$ distributions."
   ]
  },
  {
   "cell_type": "markdown",
   "metadata": {
    "hidden": true
   },
   "source": [
    "For more on how the $F$-distribution is relevant to ANOVA, see [this post](https://blog.minitab.com/en/adventures-in-statistics-2/understanding-analysis-of-variance-anova-and-the-f-test)."
   ]
  },
  {
   "cell_type": "markdown",
   "metadata": {
    "hidden": true
   },
   "source": [
    "Just like with $t$ and $z$ tests, we calculate a test statistic, then compare it to a critical value associated with a probability distribution. In this case, that distribution is the [$F$-distribution](https://en.wikipedia.org/wiki/F-distribution).\n",
    "\n",
    "Let's draw some $F$ curves:"
   ]
  },
  {
   "cell_type": "code",
   "execution_count": 5,
   "metadata": {},
   "outputs": [
    {
     "data": {
      "image/png": "[encoded data removed]",
      "text/plain": [
       "<Figure size 576x432 with 1 Axes>"
      ]
     },
     "metadata": {
      "needs_background": "light"
     },
     "output_type": "display_data"
    }
   ],
   "source": [
    "f_11 = stats.f(dfn=1, dfd=1)\n",
    "f_21 = stats.f(dfn=2, dfd=1)\n",
    "f_52 = stats.f(dfn=5, dfd=2)\n",
    "f_101 = stats.f(dfn=10, dfd=1)\n",
    "f_100100 = stats.f(dfn=100, dfd=100)\n",
    "x = np.linspace(0, 5, 200)\n",
    "\n",
    "fig, ax = plt.subplots(figsize=(8, 6))\n",
    "ax.plot(x, f_11.pdf(x), label='F(1, 1)')\n",
    "ax.plot(x, f_21.pdf(x), label='F(2, 1)')\n",
    "ax.plot(x, f_52.pdf(x), label='F(5, 2)')\n",
    "ax.plot(x, f_101.pdf(x), label='F(10, 1)')\n",
    "ax.plot(x, f_100100.pdf(x), label='F(100, 100)')\n",
    "ax.set_title('Some $F$ distribution curves')\n",
    "\n",
    "ax.legend();"
   ]
  },
  {
   "cell_type": "markdown",
   "metadata": {
    "heading_collapsed": true,
    "hidden": true
   },
   "source": [
    "### Visualizing the Data and $F$-Statistic"
   ]
  },
  {
   "cell_type": "code",
   "execution_count": null,
   "metadata": {
    "hidden": true
   },
   "outputs": [],
   "source": [
    "f, ax = plt.subplots(figsize=(10,8))\n",
    "\n",
    "# Use specific set of colors\n",
    "colors = sns.color_palette('husl')\n",
    "\n",
    "# Data Points\n",
    "ax = sns.swarmplot(\n",
    "    data=df,\n",
    "    x=\"area\",\n",
    "    y=\"shell_standardized\",\n",
    "    ax=ax,\n",
    "    alpha=0.6, \n",
    "    marker='^',\n",
    "    size=8,\n",
    "    palette=colors\n",
    ")\n",
    "\n",
    "# Overall mean line\n",
    "ax.axhline(\n",
    "    df['shell_standardized'].mean(), label='Overall mean',\n",
    "    lw=3, ls='--', color='black', alpha=0.7\n",
    ")\n",
    "\n",
    "# Look at each specifc group (by area)\n",
    "areas = df['area'].unique()\n",
    "for i,area in enumerate(areas):\n",
    "    mean = df[df['area']==area]['shell_standardized'].mean()\n",
    "    # Make these lines short and near each group\n",
    "    xmin = 1/len(areas) * i + 0.05\n",
    "    xmax = xmin + 0.1\n",
    "    ax.axhline(\n",
    "        mean, xmin=xmin, xmax=xmax, label=f'`{area}` mean',\n",
    "        lw=5, ls='-', color=colors[i]\n",
    "    ) \n",
    "    \n",
    "ax.legend()\n",
    "plt.tight_layout();"
   ]
  },
  {
   "cell_type": "markdown",
   "metadata": {
    "heading_collapsed": true,
    "hidden": true
   },
   "source": [
    "#### More Details on Variance Between and Within Groups"
   ]
  },
  {
   "cell_type": "markdown",
   "metadata": {
    "hidden": true
   },
   "source": [
    "<img src=\"https://s3-ap-south-1.amazonaws.com/av-blog-media/wp-content/uploads/2017/12/image046.png\" width=\"500\">"
   ]
  },
  {
   "cell_type": "markdown",
   "metadata": {
    "heading_collapsed": true,
    "hidden": true
   },
   "source": [
    "### Between Group Variability"
   ]
  },
  {
   "cell_type": "markdown",
   "metadata": {
    "hidden": true
   },
   "source": [
    "Measures how much the means of each group vary from the mean of the overall population\n",
    "\n",
    "\n",
    "\n",
    "<img src=\"https://s3-ap-south-1.amazonaws.com/av-blog-media/wp-content/uploads/2017/12/image0171.png\" width=\"500\">\n",
    "    "
   ]
  },
  {
   "cell_type": "markdown",
   "metadata": {
    "heading_collapsed": true,
    "hidden": true
   },
   "source": [
    "### Within Group Variability"
   ]
  },
  {
   "cell_type": "markdown",
   "metadata": {
    "hidden": true
   },
   "source": [
    "Refers to variations caused by differences within individual groups.  "
   ]
  },
  {
   "cell_type": "markdown",
   "metadata": {
    "hidden": true
   },
   "source": [
    "Consider the given distributions of three samples below. As the spread (variability) of each sample is increased, their distributions overlap and they become part of a big population.\n",
    "<img src=\"https://s3-ap-south-1.amazonaws.com/av-blog-media/wp-content/uploads/2017/12/image031.png\" width=\"500\">"
   ]
  },
  {
   "cell_type": "markdown",
   "metadata": {
    "hidden": true
   },
   "source": [
    "Now consider another distribution of the same three samples but with less variability. Although the means of samples are similar to the samples in the above image, they seem to belong to different populations.\n",
    "\n",
    "<img src=\"https://s3-ap-south-1.amazonaws.com/av-blog-media/wp-content/uploads/2017/12/image033.png\" width=\"500\">\n"
   ]
  },
  {
   "cell_type": "markdown",
   "metadata": {
    "heading_collapsed": true,
    "hidden": true
   },
   "source": [
    "## Performing One-Way ANOVA"
   ]
  },
  {
   "cell_type": "markdown",
   "metadata": {
    "hidden": true
   },
   "source": [
    "We saw from above that it probably isn't immediately obvious if these groups are in fact different. We still do our normal steps for hypothesis steps but use the [`scipy.stats.f_oneway()` function](https://docs.scipy.org/doc/scipy/reference/generated/scipy.stats.f_oneway.html) to get our test statistic ($F$-statistic)  and p-value."
   ]
  },
  {
   "cell_type": "markdown",
   "metadata": {
    "hidden": true
   },
   "source": [
    "- $H_0$ : $\\mu_{tillamook} = \\mu_{newport} = \\mu_{magadan} = \\mu_{tvarminne} = \\mu_{petersburg}$\n",
    "- $H_a$ : $H_0$ is not true"
   ]
  },
  {
   "cell_type": "code",
   "execution_count": 6,
   "metadata": {
    "hidden": true
   },
   "outputs": [],
   "source": [
    "# Define our alpha significance level\n",
    "alpha = 0.01"
   ]
  },
  {
   "cell_type": "code",
   "execution_count": 7,
   "metadata": {
    "hidden": true
   },
   "outputs": [
    {
     "data": {
      "text/plain": [
       "F_onewayResult(statistic=7.121019471642445, pvalue=0.0002812242314534552)"
      ]
     },
     "execution_count": 7,
     "metadata": {},
     "output_type": "execute_result"
    }
   ],
   "source": [
    "groups = {'tillamook':tillamook, 'newport':newport, 'magadan':magadan,\n",
    "          'tvarminne':tvarminne, 'petersburg':petersburg}\n",
    "\n",
    "# Note I'm simply unpacking the iterator instead of typing each out\n",
    "result = stats.f_oneway(*groups.values())\n",
    "f_stat, p = result\n",
    "# Printing out the result just to show what it looks like\n",
    "result"
   ]
  },
  {
   "cell_type": "code",
   "execution_count": 8,
   "metadata": {
    "hidden": true
   },
   "outputs": [
    {
     "name": "stdout",
     "output_type": "stream",
     "text": [
      "\n",
      "The difference between the different groups was significant for a significance\n",
      "level of 0.01.\n",
      "\n"
     ]
    }
   ],
   "source": [
    "conclusion = 'significant' if p < alpha else 'not significant'\n",
    "\n",
    "print(f'''\n",
    "The difference between the different groups was {conclusion} for a significance\n",
    "level of {alpha}.\n",
    "''')"
   ]
  },
  {
   "cell_type": "markdown",
   "metadata": {
    "heading_collapsed": true,
    "hidden": true
   },
   "source": [
    "### Note: Excluding One Group"
   ]
  },
  {
   "cell_type": "markdown",
   "metadata": {
    "hidden": true
   },
   "source": [
    "> Note that we could have an _insignificant_ result if we removed \"petersburg\" from the group"
   ]
  },
  {
   "cell_type": "code",
   "execution_count": null,
   "metadata": {
    "hidden": true
   },
   "outputs": [],
   "source": [
    "groups = {'tillamook':tillamook, 'newport':newport, 'magadan':magadan, 'tvarminne':tvarminne}\n",
    "\n",
    "# Note I'm simply unpacking the iterator instead of typing each out\n",
    "result = stats.f_oneway(*groups.values())\n",
    "f_stat, p = result\n",
    "\n",
    "print(result)\n",
    "\n",
    "conclusion = 'significant' if p < alpha else 'not significant'\n",
    "\n",
    "print(f'''\n",
    "The difference between the different groups was {conclusion} for a significance\n",
    "level of {alpha}.\n",
    "''')"
   ]
  },
  {
   "cell_type": "markdown",
   "metadata": {
    "heading_collapsed": true,
    "hidden": true
   },
   "source": [
    "## ANOVA is an Omnibus Test"
   ]
  },
  {
   "cell_type": "markdown",
   "metadata": {
    "hidden": true
   },
   "source": [
    "Remember that ANOVA only tells us _if_ there is significant difference in the groups, not _which_ group is significant."
   ]
  },
  {
   "cell_type": "markdown",
   "metadata": {
    "hidden": true
   },
   "source": [
    "> **NOTE** \n",
    ">\n",
    ">If we follow up with trying to find which groups are significantly different from each other, you have to consider *post-hoc* tests. You should avoid doing _multiple_ tests.\n",
    ">\n",
    "> More information can be found in a [Level Up section](#Level-Up---Follow-Up-with-Post-Hoc-Tests) below."
   ]
  },
  {
   "cell_type": "markdown",
   "metadata": {},
   "source": [
    "# Exercise: Two-Sample T-Test"
   ]
  },
  {
   "cell_type": "markdown",
   "metadata": {},
   "source": [
    "A sample of 20 data science students from Dr. Venkman's Data Science 101 lecture course showed an average of 80.5 points on the last test, with a standard deviation of 9.9 points. Meanwhile, a sample of 28 students from Dr. Yates's Data Science 101 lecture course showed an average of 86.3 points on the same test, with a standard deviation of 11.2 points. Are Dr. Yates's students performing (significantly) better than Dr. Venkman's? Assume the two student populations have equal variances and use an alpha level of 0.05.\n",
    "\n",
    "Bonus:\n",
    "- How can we calculate the pooled variance for these samples?\n",
    "- How can we calculate the t-statistic by hand?"
   ]
  },
  {
   "cell_type": "code",
   "execution_count": null,
   "metadata": {},
   "outputs": [],
   "source": []
  },
  {
   "cell_type": "markdown",
   "metadata": {},
   "source": [
    "<details>\n",
    "    <summary>Answer</summary>\n",
    "<code>stats.ttest_ind_from_stats(mean1=80.5,\n",
    "                          std1=9.9,\n",
    "                          nobs1=20,\n",
    "                          mean2=86.3,\n",
    "                          std2=11.2,\n",
    "                          nobs2=28)</code>\n",
    "    </details>"
   ]
  },
  {
   "cell_type": "markdown",
   "metadata": {},
   "source": [
    "<details>\n",
    "    <summary>Bonus Answer</summary>\n",
    "<code>mean1 = 80.5\n",
    "std1 = 9.9\n",
    "nobs1 = 20\n",
    "mean2 = 86.3\n",
    "std2 = 11.2\n",
    "nobs2 = 28\n",
    "sum_x1_diffs_sq = (nobs1-1) * std1**2\n",
    "sum_x2_diffs_sq = (nobs2-1) * std2**2\n",
    "var_pool = (sum_x1_diffs_sq + sum_x2_diffs_sq) / (nobs1+nobs2-2)\n",
    "t_stat = (mean1 - mean2) / np.sqrt(var_pool * (1/nobs1 + 1/nobs2))\n",
    "print(var_pool)\n",
    "print(t_stat)</code>\n",
    "    </details>"
   ]
  },
  {
   "cell_type": "markdown",
   "metadata": {
    "heading_collapsed": true
   },
   "source": [
    "# Level Up - `statsmodels`"
   ]
  },
  {
   "cell_type": "code",
   "execution_count": null,
   "metadata": {
    "hidden": true
   },
   "outputs": [],
   "source": [
    "import statsmodels.api as sm\n",
    "from statsmodels.formula.api import ols"
   ]
  },
  {
   "cell_type": "markdown",
   "metadata": {
    "hidden": true
   },
   "source": [
    "> The OLS method from `statsmodels` gives an ANOVA table"
   ]
  },
  {
   "cell_type": "code",
   "execution_count": null,
   "metadata": {
    "hidden": true
   },
   "outputs": [],
   "source": [
    "anova_season = ols('shell_standardized ~ C(area)', data=df).fit()\n",
    "anova_season.summary()"
   ]
  },
  {
   "cell_type": "markdown",
   "metadata": {
    "heading_collapsed": true
   },
   "source": [
    "# Level Up - Follow-Up with Post-Hoc Tests"
   ]
  },
  {
   "cell_type": "markdown",
   "metadata": {
    "hidden": true
   },
   "source": [
    "Just because we have rejected the null hypothesis, it doesn't mean we have conclusively shown which group is significantly different from which - remember, the alternative hypothesis says simply that the null hypothesis is not true.\n",
    "\n",
    "We need to conduct post-hoc tests for multiple comparisons to find out which groups are different. The most prominent post-hoc tests are:\n",
    "- LSD (Least significant difference)\n",
    "    - $t\\sqrt \\frac{MSE}{n^2}$\n",
    "- Tukey's HSD \n",
    "    - $q\\sqrt \\frac{MSE}{n}$\n",
    "    \n",
    "https://www.statisticshowto.com/studentized-range-distribution/#qtable\n",
    "    \n",
    "After calculating a value for LSD or HSD, we compare each pair wise mean difference with the LSD or HSD difference. If the pairwise mean difference exceeds the LSD/HSD, then they are significantly different."
   ]
  },
  {
   "cell_type": "code",
   "execution_count": 9,
   "metadata": {
    "hidden": true
   },
   "outputs": [
    {
     "name": "stdout",
     "output_type": "stream",
     "text": [
      "    Multiple Comparison of Means - Tukey HSD, FWER=0.05     \n",
      "============================================================\n",
      "  group1     group2   meandiff p-adj   lower   upper  reject\n",
      "------------------------------------------------------------\n",
      "   magadan    newport  -0.0032    0.9 -0.0213  0.0149  False\n",
      "   magadan petersburg   0.0254 0.0037  0.0067  0.0442   True\n",
      "   magadan  tillamook   0.0022    0.9  -0.015  0.0194  False\n",
      "   magadan  tvarminne   0.0177 0.0928 -0.0019  0.0373  False\n",
      "   newport petersburg   0.0286  0.001  0.0099  0.0474   True\n",
      "   newport  tillamook   0.0054 0.8898 -0.0118  0.0226  False\n",
      "   newport  tvarminne   0.0209 0.0318  0.0013  0.0405   True\n",
      "petersburg  tillamook  -0.0232 0.0057 -0.0411 -0.0054   True\n",
      "petersburg  tvarminne  -0.0077 0.7791 -0.0279  0.0124  False\n",
      " tillamook  tvarminne   0.0155 0.1446 -0.0032  0.0342  False\n",
      "------------------------------------------------------------\n"
     ]
    }
   ],
   "source": [
    "from statsmodels.stats.multicomp import pairwise_tukeyhsd\n",
    "\n",
    "print(pairwise_tukeyhsd(df['shell_standardized'], df['area']))"
   ]
  },
  {
   "cell_type": "markdown",
   "metadata": {
    "heading_collapsed": true
   },
   "source": [
    "# Level Up - Two-Way ANOVA"
   ]
  },
  {
   "cell_type": "markdown",
   "metadata": {
    "hidden": true
   },
   "source": [
    "Returning to the example at the very beginning of the lesson, say \n",
    "we found out, using one-way ANOVA, that the season was impactful on the mood of different people. What if the season was to affect different groups of people differently?  Maybe older people were affected more by the seasons than younger people.\n",
    "\n",
    "Moreover, how can we be sure as to which factor(s) is affecting the mood more? Maybe the age group is a more dominant factor responsible for a person's mood than the season.\n",
    "\n",
    "For such cases, when the outcome or dependent variable is affected by two independent variables/factors we use a slightly modified technique called two-way ANOVA."
   ]
  },
  {
   "cell_type": "code",
   "execution_count": 10,
   "metadata": {},
   "outputs": [],
   "source": [
    "df = pd.DataFrame({'score': [85, 86, 88, 75, 78, 94, 98, 79, 71, 80,\n",
    "                             91, 92, 93, 90, 97, 94, 82, 88, 95, 96,\n",
    "                             79, 78, 88, 94, 92, 85, 83, 85, 82, 81],\n",
    "                   'group': np.repeat(['a', 'b', 'c'], repeats=10)}) "
   ]
  },
  {
   "cell_type": "code",
   "execution_count": 11,
   "metadata": {},
   "outputs": [
    {
     "data": {
      "text/html": [
       "<div>\n",
       "<style scoped>\n",
       "    .dataframe tbody tr th:only-of-type {\n",
       "        vertical-align: middle;\n",
       "    }\n",
       "\n",
       "    .dataframe tbody tr th {\n",
       "        vertical-align: top;\n",
       "    }\n",
       "\n",
       "    .dataframe thead th {\n",
       "        text-align: right;\n",
       "    }\n",
       "</style>\n",
       "<table border=\"1\" class=\"dataframe\">\n",
       "  <thead>\n",
       "    <tr style=\"text-align: right;\">\n",
       "      <th></th>\n",
       "      <th>score</th>\n",
       "      <th>group</th>\n",
       "    </tr>\n",
       "  </thead>\n",
       "  <tbody>\n",
       "    <tr>\n",
       "      <th>0</th>\n",
       "      <td>85</td>\n",
       "      <td>a</td>\n",
       "    </tr>\n",
       "    <tr>\n",
       "      <th>1</th>\n",
       "      <td>86</td>\n",
       "      <td>a</td>\n",
       "    </tr>\n",
       "    <tr>\n",
       "      <th>2</th>\n",
       "      <td>88</td>\n",
       "      <td>a</td>\n",
       "    </tr>\n",
       "    <tr>\n",
       "      <th>3</th>\n",
       "      <td>75</td>\n",
       "      <td>a</td>\n",
       "    </tr>\n",
       "    <tr>\n",
       "      <th>4</th>\n",
       "      <td>78</td>\n",
       "      <td>a</td>\n",
       "    </tr>\n",
       "    <tr>\n",
       "      <th>5</th>\n",
       "      <td>94</td>\n",
       "      <td>a</td>\n",
       "    </tr>\n",
       "    <tr>\n",
       "      <th>6</th>\n",
       "      <td>98</td>\n",
       "      <td>a</td>\n",
       "    </tr>\n",
       "    <tr>\n",
       "      <th>7</th>\n",
       "      <td>79</td>\n",
       "      <td>a</td>\n",
       "    </tr>\n",
       "    <tr>\n",
       "      <th>8</th>\n",
       "      <td>71</td>\n",
       "      <td>a</td>\n",
       "    </tr>\n",
       "    <tr>\n",
       "      <th>9</th>\n",
       "      <td>80</td>\n",
       "      <td>a</td>\n",
       "    </tr>\n",
       "    <tr>\n",
       "      <th>10</th>\n",
       "      <td>91</td>\n",
       "      <td>b</td>\n",
       "    </tr>\n",
       "    <tr>\n",
       "      <th>11</th>\n",
       "      <td>92</td>\n",
       "      <td>b</td>\n",
       "    </tr>\n",
       "    <tr>\n",
       "      <th>12</th>\n",
       "      <td>93</td>\n",
       "      <td>b</td>\n",
       "    </tr>\n",
       "    <tr>\n",
       "      <th>13</th>\n",
       "      <td>90</td>\n",
       "      <td>b</td>\n",
       "    </tr>\n",
       "    <tr>\n",
       "      <th>14</th>\n",
       "      <td>97</td>\n",
       "      <td>b</td>\n",
       "    </tr>\n",
       "    <tr>\n",
       "      <th>15</th>\n",
       "      <td>94</td>\n",
       "      <td>b</td>\n",
       "    </tr>\n",
       "    <tr>\n",
       "      <th>16</th>\n",
       "      <td>82</td>\n",
       "      <td>b</td>\n",
       "    </tr>\n",
       "    <tr>\n",
       "      <th>17</th>\n",
       "      <td>88</td>\n",
       "      <td>b</td>\n",
       "    </tr>\n",
       "    <tr>\n",
       "      <th>18</th>\n",
       "      <td>95</td>\n",
       "      <td>b</td>\n",
       "    </tr>\n",
       "    <tr>\n",
       "      <th>19</th>\n",
       "      <td>96</td>\n",
       "      <td>b</td>\n",
       "    </tr>\n",
       "    <tr>\n",
       "      <th>20</th>\n",
       "      <td>79</td>\n",
       "      <td>c</td>\n",
       "    </tr>\n",
       "    <tr>\n",
       "      <th>21</th>\n",
       "      <td>78</td>\n",
       "      <td>c</td>\n",
       "    </tr>\n",
       "    <tr>\n",
       "      <th>22</th>\n",
       "      <td>88</td>\n",
       "      <td>c</td>\n",
       "    </tr>\n",
       "    <tr>\n",
       "      <th>23</th>\n",
       "      <td>94</td>\n",
       "      <td>c</td>\n",
       "    </tr>\n",
       "    <tr>\n",
       "      <th>24</th>\n",
       "      <td>92</td>\n",
       "      <td>c</td>\n",
       "    </tr>\n",
       "    <tr>\n",
       "      <th>25</th>\n",
       "      <td>85</td>\n",
       "      <td>c</td>\n",
       "    </tr>\n",
       "    <tr>\n",
       "      <th>26</th>\n",
       "      <td>83</td>\n",
       "      <td>c</td>\n",
       "    </tr>\n",
       "    <tr>\n",
       "      <th>27</th>\n",
       "      <td>85</td>\n",
       "      <td>c</td>\n",
       "    </tr>\n",
       "    <tr>\n",
       "      <th>28</th>\n",
       "      <td>82</td>\n",
       "      <td>c</td>\n",
       "    </tr>\n",
       "    <tr>\n",
       "      <th>29</th>\n",
       "      <td>81</td>\n",
       "      <td>c</td>\n",
       "    </tr>\n",
       "  </tbody>\n",
       "</table>\n",
       "</div>"
      ],
      "text/plain": [
       "    score group\n",
       "0      85     a\n",
       "1      86     a\n",
       "2      88     a\n",
       "3      75     a\n",
       "4      78     a\n",
       "5      94     a\n",
       "6      98     a\n",
       "7      79     a\n",
       "8      71     a\n",
       "9      80     a\n",
       "10     91     b\n",
       "11     92     b\n",
       "12     93     b\n",
       "13     90     b\n",
       "14     97     b\n",
       "15     94     b\n",
       "16     82     b\n",
       "17     88     b\n",
       "18     95     b\n",
       "19     96     b\n",
       "20     79     c\n",
       "21     78     c\n",
       "22     88     c\n",
       "23     94     c\n",
       "24     92     c\n",
       "25     85     c\n",
       "26     83     c\n",
       "27     85     c\n",
       "28     82     c\n",
       "29     81     c"
      ]
     },
     "execution_count": 11,
     "metadata": {},
     "output_type": "execute_result"
    }
   ],
   "source": [
    "df"
   ]
  },
  {
   "cell_type": "code",
   "execution_count": 12,
   "metadata": {},
   "outputs": [],
   "source": [
    "tukey = pairwise_tukeyhsd(endog=df['score'],\n",
    "                          groups=df['group'],\n",
    "                          alpha=0.05)"
   ]
  },
  {
   "cell_type": "code",
   "execution_count": 14,
   "metadata": {},
   "outputs": [
    {
     "name": "stdout",
     "output_type": "stream",
     "text": [
      " Multiple Comparison of Means - Tukey HSD, FWER=0.05 \n",
      "=====================================================\n",
      "group1 group2 meandiff p-adj   lower    upper  reject\n",
      "-----------------------------------------------------\n",
      "     a      b      8.4 0.0158   1.4272 15.3728   True\n",
      "     a      c      1.3 0.8864  -5.6728  8.2728  False\n",
      "     b      c     -7.1 0.0453 -14.0728 -0.1272   True\n",
      "-----------------------------------------------------\n"
     ]
    }
   ],
   "source": [
    "print(tukey)"
   ]
  },
  {
   "cell_type": "code",
   "execution_count": null,
   "metadata": {},
   "outputs": [],
   "source": []
  }
 ],
 "metadata": {
  "kernelspec": {
   "display_name": "Python 3",
   "language": "python",
   "name": "python3"
  },
  "language_info": {
   "codemirror_mode": {
    "name": "ipython",
    "version": 3
   },
   "file_extension": ".py",
   "mimetype": "text/x-python",
   "name": "python",
   "nbconvert_exporter": "python",
   "pygments_lexer": "ipython3",
   "version": "3.8.5"
  },
  "toc": {
   "base_numbering": 1,
   "nav_menu": {},
   "number_sections": true,
   "sideBar": true,
   "skip_h1_title": false,
   "title_cell": "Table of Contents",
   "title_sidebar": "TOC",
   "toc_cell": true,
   "toc_position": {
    "height": "calc(100% - 180px)",
    "left": "10px",
    "top": "150px",
    "width": "384px"
   },
   "toc_section_display": true,
   "toc_window_display": true
  }
 },
 "nbformat": 4,
 "nbformat_minor": 4
}
